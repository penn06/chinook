{
 "cells": [
  {
   "cell_type": "markdown",
   "metadata": {},
   "source": [
    "# Answering Business Questions Using SQL"
   ]
  },
  {
   "cell_type": "code",
   "execution_count": 1,
   "metadata": {
    "collapsed": false,
    "scrolled": true
   },
   "outputs": [
    {
     "data": {
      "text/plain": [
       "'Connected: None@chinook.db'"
      ]
     },
     "execution_count": 1,
     "metadata": {},
     "output_type": "execute_result"
    }
   ],
   "source": [
    "%%capture\n",
    "%load_ext sql\n",
    "%sql sqlite:///chinook.db"
   ]
  },
  {
   "cell_type": "code",
   "execution_count": 2,
   "metadata": {
    "collapsed": false
   },
   "outputs": [
    {
     "name": "stdout",
     "output_type": "stream",
     "text": [
      "Done.\n"
     ]
    },
    {
     "data": {
      "text/html": [
       "<table>\n",
       "    <tr>\n",
       "        <th>name</th>\n",
       "        <th>type</th>\n",
       "    </tr>\n",
       "    <tr>\n",
       "        <td>album</td>\n",
       "        <td>table</td>\n",
       "    </tr>\n",
       "    <tr>\n",
       "        <td>artist</td>\n",
       "        <td>table</td>\n",
       "    </tr>\n",
       "    <tr>\n",
       "        <td>customer</td>\n",
       "        <td>table</td>\n",
       "    </tr>\n",
       "    <tr>\n",
       "        <td>employee</td>\n",
       "        <td>table</td>\n",
       "    </tr>\n",
       "    <tr>\n",
       "        <td>genre</td>\n",
       "        <td>table</td>\n",
       "    </tr>\n",
       "    <tr>\n",
       "        <td>invoice</td>\n",
       "        <td>table</td>\n",
       "    </tr>\n",
       "    <tr>\n",
       "        <td>invoice_line</td>\n",
       "        <td>table</td>\n",
       "    </tr>\n",
       "    <tr>\n",
       "        <td>media_type</td>\n",
       "        <td>table</td>\n",
       "    </tr>\n",
       "    <tr>\n",
       "        <td>playlist</td>\n",
       "        <td>table</td>\n",
       "    </tr>\n",
       "    <tr>\n",
       "        <td>playlist_track</td>\n",
       "        <td>table</td>\n",
       "    </tr>\n",
       "    <tr>\n",
       "        <td>track</td>\n",
       "        <td>table</td>\n",
       "    </tr>\n",
       "    <tr>\n",
       "        <td>tracks_usa</td>\n",
       "        <td>view</td>\n",
       "    </tr>\n",
       "    <tr>\n",
       "        <td>customers</td>\n",
       "        <td>view</td>\n",
       "    </tr>\n",
       "    <tr>\n",
       "        <td>t_customers</td>\n",
       "        <td>view</td>\n",
       "    </tr>\n",
       "    <tr>\n",
       "        <td>total_customers</td>\n",
       "        <td>view</td>\n",
       "    </tr>\n",
       "    <tr>\n",
       "        <td>other_group</td>\n",
       "        <td>view</td>\n",
       "    </tr>\n",
       "    <tr>\n",
       "        <td>other_group_sort</td>\n",
       "        <td>view</td>\n",
       "    </tr>\n",
       "</table>"
      ],
      "text/plain": [
       "[('album', 'table'),\n",
       " ('artist', 'table'),\n",
       " ('customer', 'table'),\n",
       " ('employee', 'table'),\n",
       " ('genre', 'table'),\n",
       " ('invoice', 'table'),\n",
       " ('invoice_line', 'table'),\n",
       " ('media_type', 'table'),\n",
       " ('playlist', 'table'),\n",
       " ('playlist_track', 'table'),\n",
       " ('track', 'table'),\n",
       " ('tracks_usa', 'view'),\n",
       " ('customers', 'view'),\n",
       " ('t_customers', 'view'),\n",
       " ('total_customers', 'view'),\n",
       " ('other_group', 'view'),\n",
       " ('other_group_sort', 'view')]"
      ]
     },
     "execution_count": 2,
     "metadata": {},
     "output_type": "execute_result"
    }
   ],
   "source": [
    "%%sql\n",
    "SELECT \n",
    "     name,\n",
    "     type\n",
    "  FROM sqlite_master\n",
    " WHERE type IN ('table','view');"
   ]
  },
  {
   "cell_type": "markdown",
   "metadata": {},
   "source": [
    "The Chinook record store has just signed a deal with a new record label, and you've been tasked with selecting the first three albums that will be added to the store, from a list of four. \n",
    "\n",
    "    Artist - Genre\n",
    "*\tRegal - Hip-Hop\n",
    "*\tRed Tone - Punk\n",
    "*\tMeteor and the Girls - Pop\n",
    "*\tSlim Jim Bites - Blues\n",
    "\n",
    "The record label specializes in artists from the USA, and they have given Chinook some money to advertise the new albums in the USA, so we're interested in finding out which genres sell the best in the USA."
   ]
  },
  {
   "cell_type": "code",
   "execution_count": 3,
   "metadata": {
    "collapsed": false
   },
   "outputs": [
    {
     "name": "stdout",
     "output_type": "stream",
     "text": [
      "(sqlite3.OperationalError) table tracks_usa already exists\n",
      "[SQL: CREATE VIEW tracks_usa AS\n",
      "SELECT \n",
      "      t.track_id,\n",
      "      g.name genre_name\n",
      "FROM customer c\n",
      "INNER JOIN invoice i ON c.customer_id = i.customer_id\n",
      "INNER JOIN invoice_line il ON il.invoice_id = i.invoice_id\n",
      "INNER JOIN track t ON t.track_id = il.track_id\n",
      "INNER JOIN genre g ON g.genre_id = t.genre_id\n",
      "WHERE c.country = 'USA';]\n",
      "(Background on this error at: http://sqlalche.me/e/13/e3q8)\n"
     ]
    }
   ],
   "source": [
    "%%sql\n",
    "CREATE VIEW tracks_usa AS\n",
    "SELECT \n",
    "      t.track_id,\n",
    "      g.name genre_name\n",
    "FROM customer c\n",
    "INNER JOIN invoice i ON c.customer_id = i.customer_id\n",
    "INNER JOIN invoice_line il ON il.invoice_id = i.invoice_id\n",
    "INNER JOIN track t ON t.track_id = il.track_id\n",
    "INNER JOIN genre g ON g.genre_id = t.genre_id\n",
    "WHERE c.country = 'USA';"
   ]
  },
  {
   "cell_type": "code",
   "execution_count": 4,
   "metadata": {
    "collapsed": false,
    "scrolled": false
   },
   "outputs": [
    {
     "name": "stdout",
     "output_type": "stream",
     "text": [
      "Done.\n"
     ]
    },
    {
     "data": {
      "text/html": [
       "<table>\n",
       "    <tr>\n",
       "        <th>genre_name</th>\n",
       "        <th>tracks_sold</th>\n",
       "        <th>tracks_proportion</th>\n",
       "    </tr>\n",
       "    <tr>\n",
       "        <td>Rock</td>\n",
       "        <td>561</td>\n",
       "        <td>0.53</td>\n",
       "    </tr>\n",
       "    <tr>\n",
       "        <td>Alternative &amp; Punk</td>\n",
       "        <td>130</td>\n",
       "        <td>0.12</td>\n",
       "    </tr>\n",
       "    <tr>\n",
       "        <td>Metal</td>\n",
       "        <td>124</td>\n",
       "        <td>0.12</td>\n",
       "    </tr>\n",
       "    <tr>\n",
       "        <td>R&amp;B/Soul</td>\n",
       "        <td>53</td>\n",
       "        <td>0.05</td>\n",
       "    </tr>\n",
       "    <tr>\n",
       "        <td>Blues</td>\n",
       "        <td>36</td>\n",
       "        <td>0.03</td>\n",
       "    </tr>\n",
       "    <tr>\n",
       "        <td>Alternative</td>\n",
       "        <td>35</td>\n",
       "        <td>0.03</td>\n",
       "    </tr>\n",
       "    <tr>\n",
       "        <td>Latin</td>\n",
       "        <td>22</td>\n",
       "        <td>0.02</td>\n",
       "    </tr>\n",
       "    <tr>\n",
       "        <td>Pop</td>\n",
       "        <td>22</td>\n",
       "        <td>0.02</td>\n",
       "    </tr>\n",
       "    <tr>\n",
       "        <td>Hip Hop/Rap</td>\n",
       "        <td>20</td>\n",
       "        <td>0.02</td>\n",
       "    </tr>\n",
       "    <tr>\n",
       "        <td>Jazz</td>\n",
       "        <td>14</td>\n",
       "        <td>0.01</td>\n",
       "    </tr>\n",
       "    <tr>\n",
       "        <td>Easy Listening</td>\n",
       "        <td>13</td>\n",
       "        <td>0.01</td>\n",
       "    </tr>\n",
       "    <tr>\n",
       "        <td>Reggae</td>\n",
       "        <td>6</td>\n",
       "        <td>0.01</td>\n",
       "    </tr>\n",
       "    <tr>\n",
       "        <td>Electronica/Dance</td>\n",
       "        <td>5</td>\n",
       "        <td>0.0</td>\n",
       "    </tr>\n",
       "    <tr>\n",
       "        <td>Classical</td>\n",
       "        <td>4</td>\n",
       "        <td>0.0</td>\n",
       "    </tr>\n",
       "    <tr>\n",
       "        <td>Heavy Metal</td>\n",
       "        <td>3</td>\n",
       "        <td>0.0</td>\n",
       "    </tr>\n",
       "    <tr>\n",
       "        <td>Soundtrack</td>\n",
       "        <td>2</td>\n",
       "        <td>0.0</td>\n",
       "    </tr>\n",
       "    <tr>\n",
       "        <td>TV Shows</td>\n",
       "        <td>1</td>\n",
       "        <td>0.0</td>\n",
       "    </tr>\n",
       "</table>"
      ],
      "text/plain": [
       "[('Rock', 561, 0.53),\n",
       " ('Alternative & Punk', 130, 0.12),\n",
       " ('Metal', 124, 0.12),\n",
       " ('R&B/Soul', 53, 0.05),\n",
       " ('Blues', 36, 0.03),\n",
       " ('Alternative', 35, 0.03),\n",
       " ('Latin', 22, 0.02),\n",
       " ('Pop', 22, 0.02),\n",
       " ('Hip Hop/Rap', 20, 0.02),\n",
       " ('Jazz', 14, 0.01),\n",
       " ('Easy Listening', 13, 0.01),\n",
       " ('Reggae', 6, 0.01),\n",
       " ('Electronica/Dance', 5, 0.0),\n",
       " ('Classical', 4, 0.0),\n",
       " ('Heavy Metal', 3, 0.0),\n",
       " ('Soundtrack', 2, 0.0),\n",
       " ('TV Shows', 1, 0.0)]"
      ]
     },
     "execution_count": 4,
     "metadata": {},
     "output_type": "execute_result"
    }
   ],
   "source": [
    "%%sql\n",
    "SELECT \n",
    "     genre_name,\n",
    "     COUNT(track_id) tracks_sold,\n",
    "     ROUND(CAST(COUNT(track_id) AS FLOAT) / (\n",
    "                                             SELECT COUNT(track_id) \n",
    "                                             FROM tracks_usa\n",
    "                                             ), 2) tracks_proportion\n",
    "FROM \n",
    "(\n",
    " SELECT \n",
    "      t.track_id,\n",
    "      g.name genre_name\n",
    " FROM customer c\n",
    " INNER JOIN invoice i ON c.customer_id = i.customer_id\n",
    " INNER JOIN invoice_line il ON il.invoice_id = i.invoice_id\n",
    " INNER JOIN track t ON t.track_id = il.track_id\n",
    " INNER JOIN genre g ON g.genre_id = t.genre_id\n",
    " WHERE c.country = 'USA'\n",
    ") tracks_usa\n",
    " GROUP BY 1\n",
    " ORDER BY 2 DESC;"
   ]
  },
  {
   "cell_type": "markdown",
   "metadata": {},
   "source": [
    "From the above, we can see:\n",
    "\n",
    "* Blues, Hip-Hop, Pop genre tracks are sold more in USA so Slim Jim Bites, Regal, Meteor and the Girls artists albums can be purchased for the store."
   ]
  },
  {
   "cell_type": "markdown",
   "metadata": {},
   "source": [
    "Each customer for the Chinook store gets assigned to a sales support agent within the company when they first make a purchase. You have been asked to analyze the purchases of customers belonging to each employee to see if any sales support agent is performing either better or worse than the others."
   ]
  },
  {
   "cell_type": "code",
   "execution_count": 5,
   "metadata": {
    "collapsed": false,
    "scrolled": true
   },
   "outputs": [
    {
     "name": "stdout",
     "output_type": "stream",
     "text": [
      "Done.\n"
     ]
    },
    {
     "data": {
      "text/html": [
       "<table>\n",
       "    <tr>\n",
       "        <th>employee_name</th>\n",
       "        <th>customers</th>\n",
       "        <th>total_sales_amount</th>\n",
       "        <th>employee_title</th>\n",
       "        <th>hire_date</th>\n",
       "    </tr>\n",
       "    <tr>\n",
       "        <td>Jane Peacock</td>\n",
       "        <td>212</td>\n",
       "        <td>1731.51</td>\n",
       "        <td>Sales Support Agent</td>\n",
       "        <td>2017-04-01 00:00:00</td>\n",
       "    </tr>\n",
       "    <tr>\n",
       "        <td>Margaret Park</td>\n",
       "        <td>214</td>\n",
       "        <td>1584.0</td>\n",
       "        <td>Sales Support Agent</td>\n",
       "        <td>2017-05-03 00:00:00</td>\n",
       "    </tr>\n",
       "    <tr>\n",
       "        <td>Steve Johnson</td>\n",
       "        <td>188</td>\n",
       "        <td>1393.92</td>\n",
       "        <td>Sales Support Agent</td>\n",
       "        <td>2017-10-17 00:00:00</td>\n",
       "    </tr>\n",
       "</table>"
      ],
      "text/plain": [
       "[('Jane Peacock', 212, 1731.51, 'Sales Support Agent', '2017-04-01 00:00:00'),\n",
       " ('Margaret Park', 214, 1584.0, 'Sales Support Agent', '2017-05-03 00:00:00'),\n",
       " ('Steve Johnson', 188, 1393.92, 'Sales Support Agent', '2017-10-17 00:00:00')]"
      ]
     },
     "execution_count": 5,
     "metadata": {},
     "output_type": "execute_result"
    }
   ],
   "source": [
    "%%sql\n",
    "SELECT \n",
    "     e.first_name || ' ' || e.last_name employee_name,\n",
    "     COUNT(c.customer_id) customers,\n",
    "     ROUND(SUM(i.total),2) total_sales_amount,\n",
    "     e.title employee_title,\n",
    "     e.hire_date\n",
    "FROM employee e\n",
    "LEFT JOIN customer c ON c.support_rep_id = e.employee_id\n",
    "LEFT JOIN invoice i ON i.customer_id = c.customer_id\n",
    "WHERE employee_title = 'Sales Support Agent'\n",
    "GROUP BY 1\n",
    "ORDER BY 3 DESC;"
   ]
  },
  {
   "cell_type": "markdown",
   "metadata": {},
   "source": [
    "From the above, we can see:\n",
    "\n",
    "* Jane Peacock has made sales worth 1731 Dollars which is impressive but considering other factors like the hire_date he could have been done better.\n",
    "\n",
    "* Steve Johnson who has joined 6 months later than Jane Peacock has made sales worth 1393 Dollars which is good when compared to his peer Jane."
   ]
  },
  {
   "cell_type": "markdown",
   "metadata": {},
   "source": [
    "Next task is to analyze the sales data for customers from each different country. \n",
    "\n",
    "calculate data, for each country, on the:\n",
    "\n",
    "* total number of customers\n",
    "* total value of sales\n",
    "* average value of sales per customer\n",
    "* average order value"
   ]
  },
  {
   "cell_type": "code",
   "execution_count": 6,
   "metadata": {
    "collapsed": false
   },
   "outputs": [
    {
     "name": "stdout",
     "output_type": "stream",
     "text": [
      "Done.\n",
      "Done.\n"
     ]
    },
    {
     "data": {
      "text/plain": [
       "[]"
      ]
     },
     "execution_count": 6,
     "metadata": {},
     "output_type": "execute_result"
    }
   ],
   "source": [
    "%%sql\n",
    "DROP VIEW IF EXISTS total_customers;\n",
    "\n",
    "CREATE VIEW total_customers AS\n",
    "SELECT \n",
    "     country,\n",
    "     COUNT(DISTINCT c.customer_id) total_customers,\n",
    "     ROUND(SUM(unit_price), 2) total_sales,\n",
    "     ROUND(SUM(unit_price) / COUNT(DISTINCT c.customer_id), 2) avg_sales_per_customer,\n",
    "     ROUND(SUM(unit_price) / SUM(quantity), 2) avg_order_value\n",
    "FROM customer c\n",
    "LEFT JOIN invoice i ON i.customer_id = c.customer_id\n",
    "LEFT JOIN invoice_line il ON il.invoice_id = i.invoice_id\n",
    "GROUP BY 1;"
   ]
  },
  {
   "cell_type": "code",
   "execution_count": 7,
   "metadata": {
    "collapsed": false
   },
   "outputs": [
    {
     "name": "stdout",
     "output_type": "stream",
     "text": [
      "Done.\n",
      "Done.\n"
     ]
    },
    {
     "data": {
      "text/plain": [
       "[]"
      ]
     },
     "execution_count": 7,
     "metadata": {},
     "output_type": "execute_result"
    }
   ],
   "source": [
    "%%sql\n",
    "DROP VIEW IF EXISTS other_group;\n",
    "\n",
    "CREATE VIEW other_group AS\n",
    "SELECT * \n",
    "FROM (\n",
    "      SELECT t.*,\n",
    "      CASE \n",
    "          WHEN total_customers = 1 THEN 'Other'\n",
    "          ELSE country\n",
    "      END AS other\n",
    "      FROM total_customers t\n",
    "      );"
   ]
  },
  {
   "cell_type": "code",
   "execution_count": 8,
   "metadata": {
    "collapsed": false,
    "scrolled": true
   },
   "outputs": [
    {
     "name": "stdout",
     "output_type": "stream",
     "text": [
      "(sqlite3.OperationalError) table other_group_sort already exists\n",
      "[SQL: CREATE VIEW other_group_sort AS\n",
      "SELECT \n",
      "      other country,\n",
      "      SUM(total_customers) total_customers,\n",
      "      SUM(total_sales) total_sales,\n",
      "      ROUND(AVG(avg_sales_per_customer), 2) avg_sales_per_customer,\n",
      "      ROUND(AVG(avg_order_value), 2) avg_order_value\n",
      "FROM other_group\n",
      "GROUP BY other\n",
      "ORDER BY total_sales DESC;]\n",
      "(Background on this error at: http://sqlalche.me/e/13/e3q8)\n"
     ]
    }
   ],
   "source": [
    "%%sql\n",
    "DROP VIEW IF EXISTS other_group_sort;\n",
    "\n",
    "CREATE VIEW other_group_sort AS\n",
    "SELECT \n",
    "      other country,\n",
    "      SUM(total_customers) total_customers,\n",
    "      SUM(total_sales) total_sales,\n",
    "      ROUND(AVG(avg_sales_per_customer), 2) avg_sales_per_customer,\n",
    "      ROUND(AVG(avg_order_value), 2) avg_order_value\n",
    "FROM other_group\n",
    "GROUP BY other\n",
    "ORDER BY total_sales DESC;"
   ]
  },
  {
   "cell_type": "code",
   "execution_count": 9,
   "metadata": {
    "collapsed": false,
    "scrolled": true
   },
   "outputs": [
    {
     "name": "stdout",
     "output_type": "stream",
     "text": [
      "Done.\n"
     ]
    },
    {
     "data": {
      "text/html": [
       "<table>\n",
       "    <tr>\n",
       "        <th>country</th>\n",
       "        <th>total_customers</th>\n",
       "        <th>total_sales</th>\n",
       "        <th>avg_sales_per_customer</th>\n",
       "        <th>avg_order_value</th>\n",
       "    </tr>\n",
       "    <tr>\n",
       "        <td>USA</td>\n",
       "        <td>13</td>\n",
       "        <td>1040.49</td>\n",
       "        <td>80.04</td>\n",
       "        <td>0.99</td>\n",
       "    </tr>\n",
       "    <tr>\n",
       "        <td>Canada</td>\n",
       "        <td>8</td>\n",
       "        <td>535.59</td>\n",
       "        <td>66.95</td>\n",
       "        <td>0.99</td>\n",
       "    </tr>\n",
       "    <tr>\n",
       "        <td>Brazil</td>\n",
       "        <td>5</td>\n",
       "        <td>427.68</td>\n",
       "        <td>85.54</td>\n",
       "        <td>0.99</td>\n",
       "    </tr>\n",
       "    <tr>\n",
       "        <td>France</td>\n",
       "        <td>5</td>\n",
       "        <td>389.07</td>\n",
       "        <td>77.81</td>\n",
       "        <td>0.99</td>\n",
       "    </tr>\n",
       "    <tr>\n",
       "        <td>Germany</td>\n",
       "        <td>4</td>\n",
       "        <td>334.62</td>\n",
       "        <td>83.66</td>\n",
       "        <td>0.99</td>\n",
       "    </tr>\n",
       "    <tr>\n",
       "        <td>Czech Republic</td>\n",
       "        <td>2</td>\n",
       "        <td>273.24</td>\n",
       "        <td>136.62</td>\n",
       "        <td>0.99</td>\n",
       "    </tr>\n",
       "    <tr>\n",
       "        <td>United Kingdom</td>\n",
       "        <td>3</td>\n",
       "        <td>245.52</td>\n",
       "        <td>81.84</td>\n",
       "        <td>0.99</td>\n",
       "    </tr>\n",
       "    <tr>\n",
       "        <td>Portugal</td>\n",
       "        <td>2</td>\n",
       "        <td>185.13</td>\n",
       "        <td>92.57</td>\n",
       "        <td>0.99</td>\n",
       "    </tr>\n",
       "    <tr>\n",
       "        <td>India</td>\n",
       "        <td>2</td>\n",
       "        <td>183.15</td>\n",
       "        <td>91.58</td>\n",
       "        <td>0.99</td>\n",
       "    </tr>\n",
       "    <tr>\n",
       "        <td>Other</td>\n",
       "        <td>15</td>\n",
       "        <td>1094.94</td>\n",
       "        <td>73.0</td>\n",
       "        <td>0.99</td>\n",
       "    </tr>\n",
       "</table>"
      ],
      "text/plain": [
       "[('USA', 13, 1040.49, 80.04, 0.99),\n",
       " ('Canada', 8, 535.59, 66.95, 0.99),\n",
       " ('Brazil', 5, 427.68, 85.54, 0.99),\n",
       " ('France', 5, 389.07, 77.81, 0.99),\n",
       " ('Germany', 4, 334.62, 83.66, 0.99),\n",
       " ('Czech Republic', 2, 273.24, 136.62, 0.99),\n",
       " ('United Kingdom', 3, 245.52, 81.84, 0.99),\n",
       " ('Portugal', 2, 185.13, 92.57, 0.99),\n",
       " ('India', 2, 183.15, 91.58, 0.99),\n",
       " ('Other', 15, 1094.94, 73.0, 0.99)]"
      ]
     },
     "execution_count": 9,
     "metadata": {},
     "output_type": "execute_result"
    }
   ],
   "source": [
    "%%sql\n",
    "SELECT \n",
    "      country,\n",
    "      total_customers,\n",
    "      total_sales,\n",
    "      avg_sales_per_customer,\n",
    "      avg_order_value\n",
    "FROM (\n",
    "      SELECT \n",
    "            *,\n",
    "            CASE \n",
    "                WHEN country = 'Other' THEN 1\n",
    "                ELSE 0\n",
    "            END AS sort\n",
    "       FROM other_group_sort\n",
    "      )\n",
    "ORDER BY sort"
   ]
  },
  {
   "cell_type": "markdown",
   "metadata": {},
   "source": [
    "From the above, we can see:\n",
    "\n",
    "* USA contributes to more sales when compared to other countries with an average sales per customer `80.4`."
   ]
  },
  {
   "cell_type": "markdown",
   "metadata": {},
   "source": [
    "The Chinook store is setup in a way that allows customer to make purchases in one of the two ways:\n",
    "\n",
    "* purchase a whole album\n",
    "* purchase a collection of one or more individual tracks.\n",
    "\n",
    "Management are currently considering changing their purchasing strategy to save money. The strategy they are considering is to purchase only the most popular tracks from each album from record companies, instead of purchasing every track from an album.\n",
    "\n",
    "Find out what percentage of purchases are individual tracks vs whole albums, so that management can use this data to understand the effect this decision might have on overall revenue."
   ]
  },
  {
   "cell_type": "code",
   "execution_count": 57,
   "metadata": {
    "collapsed": false
   },
   "outputs": [
    {
     "name": "stdout",
     "output_type": "stream",
     "text": [
      "Done.\n",
      "Done.\n"
     ]
    },
    {
     "data": {
      "text/plain": [
       "[]"
      ]
     },
     "execution_count": 57,
     "metadata": {},
     "output_type": "execute_result"
    }
   ],
   "source": [
    "%%sql\n",
    "DROP VIEW IF EXISTS true_album; \n",
    "\n",
    "CREATE VIEW true_album AS\n",
    "SELECT\n",
    "      il.invoice_id,\n",
    "      il.track_id,\n",
    "      t.album_id,\n",
    "      a.title,\n",
    "      (\n",
    "       SELECT tr.track_id FROM track tr\n",
    "       LEFT JOIN album al ON tr.album_id = al.album_id\n",
    "       WHERE tr.album_id = t.album_id\n",
    "       EXCEPT\n",
    "       SELECT tra.track_id FROM invoice_line inv\n",
    "       LEFT JOIN track tra ON tra.track_id = inv.track_id\n",
    "       WHERE inv.invoice_id = il.invoice_id\n",
    "      ) IS NULL \n",
    "      AND\n",
    "      (\n",
    "       SELECT tra.track_id FROM invoice_line inv\n",
    "       LEFT JOIN track tra ON tra.track_id = inv.track_id\n",
    "       WHERE inv.invoice_id = il.invoice_id\n",
    "       EXCEPT\n",
    "       SELECT tr.track_id FROM track tr\n",
    "       LEFT JOIN album al ON tr.album_id = al.album_id\n",
    "       WHERE tr.album_id = t.album_id\n",
    "      ) IS NULL true_album\n",
    "FROM invoice i \n",
    "LEFT JOIN invoice_line il ON i.invoice_id = il.invoice_id\n",
    "LEFT JOIN track t ON t.track_id = il.track_id\n",
    "LEFT JOIN album a ON a.album_id = t.album_id\n",
    "GROUP BY il.invoice_id;"
   ]
  },
  {
   "cell_type": "code",
   "execution_count": 56,
   "metadata": {
    "collapsed": false
   },
   "outputs": [
    {
     "name": "stdout",
     "output_type": "stream",
     "text": [
      "(sqlite3.OperationalError) no such column: true_album\n",
      "[SQL: SELECT * FROM true_album;]\n",
      "(Background on this error at: http://sqlalche.me/e/13/e3q8)\n"
     ]
    }
   ],
   "source": [
    "%%sql\n",
    "SELECT * FROM true_album;"
   ]
  },
  {
   "cell_type": "code",
   "execution_count": 60,
   "metadata": {
    "collapsed": false,
    "scrolled": true
   },
   "outputs": [
    {
     "name": "stdout",
     "output_type": "stream",
     "text": [
      "Done.\n"
     ]
    },
    {
     "data": {
      "text/html": [
       "<table>\n",
       "    <tr>\n",
       "        <th>purchase_type</th>\n",
       "        <th>invoices_total</th>\n",
       "        <th>invoices_percentage</th>\n",
       "    </tr>\n",
       "    <tr>\n",
       "        <td>single track</td>\n",
       "        <td>500</td>\n",
       "        <td>0.81</td>\n",
       "    </tr>\n",
       "    <tr>\n",
       "        <td>album</td>\n",
       "        <td>114</td>\n",
       "        <td>0.19</td>\n",
       "    </tr>\n",
       "</table>"
      ],
      "text/plain": [
       "[('single track', 500, 0.81), ('album', 114, 0.19)]"
      ]
     },
     "execution_count": 60,
     "metadata": {},
     "output_type": "execute_result"
    }
   ],
   "source": [
    "%%sql\n",
    "SELECT \n",
    "      CASE \n",
    "          WHEN true_album = 1 then 'album'\n",
    "          ELSE 'single track'\n",
    "      END AS purchase_type,\n",
    "      COUNT(invoice_id) invoices_total,\n",
    "      ROUND(CAST(COUNT(invoice_id) AS FLOAT) / (\n",
    "                           SELECT COUNT(invoice_id)\n",
    "                           FROM invoice\n",
    "                           ), 2) invoices_percentage\n",
    "FROM true_album\n",
    "GROUP BY true_album;"
   ]
  },
  {
   "cell_type": "markdown",
   "metadata": {},
   "source": [
    "From the above, we can see:\n",
    "\n",
    "* Most of the customers bought tracks as single track purchase and not full albums.\n",
    "\n",
    "* Considering purchasing only the most popular tracks from each album from record companies, instead of purchasing every track from an album may increase the overall revenue of the company."
   ]
  },
  {
   "cell_type": "markdown",
   "metadata": {},
   "source": [
    "## Conclusion:\n",
    "\n",
    "Business Questions based on chinook store have been justifie"
   ]
  }
 ],
 "metadata": {
  "kernelspec": {
   "display_name": "Python 3",
   "language": "python",
   "name": "python3"
  },
  "language_info": {
   "codemirror_mode": {
    "name": "ipython",
    "version": 3
   },
   "file_extension": ".py",
   "mimetype": "text/x-python",
   "name": "python",
   "nbconvert_exporter": "python",
   "pygments_lexer": "ipython3",
   "version": "3.4.3"
  }
 },
 "nbformat": 4,
 "nbformat_minor": 2
}
